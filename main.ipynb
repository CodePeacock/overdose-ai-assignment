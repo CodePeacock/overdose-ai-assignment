{
 "cells": [
  {
   "cell_type": "code",
   "execution_count": null,
   "metadata": {},
   "outputs": [],
   "source": [
    "# Importing the libraries\n",
    "import pandas as pd\n",
    "import numpy as np\n",
    "import seaborn as sns\n",
    "import matplotlib.pyplot as plt\n",
    "from sklearn.preprocessing import MinMaxScaler, StandardScaler, OneHotEncoder\n",
    "from sklearn.model_selection import train_test_split\n",
    "from sklearn.linear_model import LinearRegression, Ridge, Lasso, ElasticNet\n",
    "from sklearn.tree import DecisionTreeRegressor\n",
    "from sklearn.ensemble import (\n",
    "    RandomForestRegressor,\n",
    "    GradientBoostingRegressor,\n",
    "    StackingRegressor,\n",
    ")\n",
    "from sklearn.neural_network import MLPRegressor\n",
    "from sklearn.metrics import r2_score, mean_absolute_error, mean_squared_error\n",
    "from sklearn.model_selection import GridSearchCV, RandomizedSearchCV\n",
    "from sklearn.feature_selection import SelectKBest, f_regression\n",
    "from sklearn.pipeline import Pipeline\n",
    "from scipy.stats import norm, skew\n",
    "from scipy.special import boxcox1p\n"
   ]
  },
  {
   "cell_type": "code",
   "execution_count": null,
   "metadata": {},
   "outputs": [],
   "source": [
    "# Load the data from Excel file\n",
    "data = pd.read_excel(\"filename.xlsb\")\n",
    "\n",
    "# Remove unnecessary columns\n",
    "data = data.drop(columns=[\"material_ref\", \"product_ref\", \"delivery date\"])\n",
    "\n",
    "# Replace missing values with the mean value of that column\n",
    "data = data.fillna(data.mean())\n"
   ]
  },
  {
   "cell_type": "code",
   "execution_count": null,
   "metadata": {},
   "outputs": [],
   "source": [
    "# One-hot encode categorical variables\n",
    "categorical_columns = [\"status\", \"item type\"]\n",
    "enc = OneHotEncoder()\n",
    "enc.fit(data[categorical_columns])\n",
    "encoded_data = pd.DataFrame(enc.transform(data[categorical_columns]).toarray())\n",
    "data = pd.concat([data, encoded_data], axis=1)\n",
    "data = data.drop(columns=categorical_columns)\n",
    "\n",
    "# Normalize the numerical variables using MinMaxScaler\n",
    "scaler = MinMaxScaler()\n",
    "numerical_columns = [\"quantity tons\", \"thickness\", \"width\"]\n",
    "data[numerical_columns] = scaler.fit_transform(data[numerical_columns])\n",
    "\n",
    "# Analyze the relationships between variables using statistical and visualization methods\n",
    "sns.pairplot(data)\n",
    "plt.show()\n",
    "\n",
    "# Analyze the correlation between variables\n",
    "corr = data.corr()\n",
    "sns.heatmap(corr, annot=True)\n",
    "plt.show()\n"
   ]
  },
  {
   "cell_type": "code",
   "execution_count": null,
   "metadata": {},
   "outputs": [],
   "source": [
    "# Analyze the relationship between the target variable 'selling_price' and the numerical variable 'quantity tons'\n",
    "sns.scatterplot(x=\"quantity tons\", y=\"selling_price\", data=data)\n",
    "plt.show()\n",
    "\n",
    "# Split the data into training and testing sets\n",
    "X = data.drop(columns=[\"selling_price\"])\n",
    "y = data[\"selling_price\"]\n",
    "X_train, X_test, y_train, y_test = train_test_split(X, y, test_size=0.1, random_state=0)\n"
   ]
  },
  {
   "cell_type": "code",
   "execution_count": null,
   "metadata": {},
   "outputs": [],
   "source": [
    "# Build regression models\n",
    "models = [\n",
    "    (\"Linear Regression\", LinearRegression()),\n",
    "    (\"Ridge Regression\", Ridge()),\n",
    "    (\"Lasso Regression\", Lasso()),\n",
    "    (\"ElasticNet Regression\", ElasticNet()),\n",
    "    (\"Decision Tree Regression\", DecisionTreeRegressor()),\n",
    "    (\"Random Forest Regression\", RandomForestRegressor()),\n",
    "    (\"Gradient Boosting Regression\", GradientBoostingRegressor()),\n",
    "    (\"Neural Network Regression\", MLPRegressor()),\n",
    "]\n",
    "\n",
    "results = []\n",
    "for name, model in models:\n",
    "    model.fit(X_train, y_train)\n",
    "    y_pred = model.predict(X_test)\n",
    "    r2 = r2_score(y_test, y_pred)\n",
    "    mae = mean_absolute_error(y_test, y_pred)\n",
    "    mse = mean_squared_error(y_test, y_pred)\n",
    "    results.append((name, r2, mae, mse))\n",
    "\n",
    "results_df = pd.DataFrame(results, columns=[\"Model\", \"R2 Score\", \"MAE\", \"MSE\"])\n",
    "print(results_df)\n"
   ]
  },
  {
   "cell_type": "code",
   "execution_count": null,
   "metadata": {},
   "outputs": [],
   "source": [
    "# Hyperparameter tuning using GridSearchCV\n",
    "params = {\n",
    "    \"n_estimators\": [50, 100, 150],\n",
    "    \"max_depth\": [2, 4, 6, 8],\n",
    "    \"min_samples_split\": [2, 4, 6],\n",
    "    \"min_samples_leaf\": [1, 2, 4],\n",
    "}\n"
   ]
  },
  {
   "cell_type": "code",
   "execution_count": null,
   "metadata": {},
   "outputs": [],
   "source": [
    "from sklearn.ensemble import RandomForestRegressor\n",
    "\n",
    "# Create random forest regression model\n",
    "rf_reg = RandomForestRegressor(n_estimators=100, random_state=42)\n",
    "\n",
    "# Train random forest regression model on training set\n",
    "rf_reg.fit(X_train, y_train)\n",
    "\n",
    "# Evaluate random forest regression model on testing set\n",
    "rf_reg_y_pred = rf_reg.predict(X_test)\n",
    "rf_reg_r2_score = r2_score(y_test, rf_reg_y_pred)\n",
    "rf_reg_mae = mean_absolute_error(y_test, rf_reg_y_pred)\n",
    "rf_reg_mse = mean_squared_error(y_test, rf_reg_y_pred)\n",
    "\n",
    "rf_reg_grid = GridSearchCV(rf_reg, params, cv=5, n_jobs=-1, verbose=1)\n",
    "\n",
    "# Print evaluation metrics for random forest regression model\n",
    "print(\"Random Forest Regression Model Evaluation Metrics:\")\n",
    "print(\"R2 Score: \", rf_reg_r2_score)\n",
    "print(\"Mean Absolute Error: \", rf_reg_mae)\n",
    "print(\"Mean Squared Error: \", rf_reg_mse)\n"
   ]
  }
 ],
 "metadata": {
  "language_info": {
   "codemirror_mode": {
    "name": "ipython",
    "version": 3
   },
   "file_extension": ".py",
   "mimetype": "text/x-python",
   "name": "python",
   "nbconvert_exporter": "python",
   "pygments_lexer": "ipython3",
   "version": 3
  },
  "orig_nbformat": 4
 },
 "nbformat": 4,
 "nbformat_minor": 2
}
